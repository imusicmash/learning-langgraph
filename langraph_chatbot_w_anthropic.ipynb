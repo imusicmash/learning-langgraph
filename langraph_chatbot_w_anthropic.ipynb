{
  "nbformat": 4,
  "nbformat_minor": 0,
  "metadata": {
    "colab": {
      "provenance": [],
      "authorship_tag": "ABX9TyOEUzXj7JQc5gY3VHfLq6up",
      "include_colab_link": true
    },
    "kernelspec": {
      "name": "python3",
      "display_name": "Python 3"
    },
    "language_info": {
      "name": "python"
    }
  },
  "cells": [
    {
      "cell_type": "markdown",
      "metadata": {
        "id": "view-in-github",
        "colab_type": "text"
      },
      "source": [
        "<a href=\"https://colab.research.google.com/github/imusicmash/learning-langgraph/blob/main/langraph_chatbot_w_anthropic.ipynb\" target=\"_parent\"><img src=\"https://colab.research.google.com/assets/colab-badge.svg\" alt=\"Open In Colab\"/></a>"
      ]
    },
    {
      "cell_type": "code",
      "execution_count": null,
      "metadata": {
        "colab": {
          "base_uri": "https://localhost:8080/"
        },
        "id": "J2hpQ9aSWcfS",
        "outputId": "4c9a827a-240d-4290-93b0-0067ffe79a07"
      },
      "outputs": [
        {
          "output_type": "stream",
          "name": "stdout",
          "text": [
            "Collecting langgraph\n",
            "  Downloading langgraph-0.3.2-py3-none-any.whl.metadata (17 kB)\n",
            "Requirement already satisfied: langsmith in /usr/local/lib/python3.11/dist-packages (0.3.11)\n",
            "Collecting langchain_anthropic\n",
            "  Downloading langchain_anthropic-0.3.8-py3-none-any.whl.metadata (1.9 kB)\n",
            "Requirement already satisfied: langchain-core<0.4,>=0.1 in /usr/local/lib/python3.11/dist-packages (from langgraph) (0.3.40)\n",
            "Collecting langgraph-checkpoint<3.0.0,>=2.0.10 (from langgraph)\n",
            "  Downloading langgraph_checkpoint-2.0.16-py3-none-any.whl.metadata (4.6 kB)\n",
            "Collecting langgraph-prebuilt<0.2,>=0.1.1 (from langgraph)\n",
            "  Downloading langgraph_prebuilt-0.1.1-py3-none-any.whl.metadata (5.0 kB)\n",
            "Collecting langgraph-sdk<0.2.0,>=0.1.42 (from langgraph)\n",
            "  Downloading langgraph_sdk-0.1.53-py3-none-any.whl.metadata (1.8 kB)\n",
            "Requirement already satisfied: httpx<1,>=0.23.0 in /usr/local/lib/python3.11/dist-packages (from langsmith) (0.28.1)\n",
            "Requirement already satisfied: orjson<4.0.0,>=3.9.14 in /usr/local/lib/python3.11/dist-packages (from langsmith) (3.10.15)\n",
            "Requirement already satisfied: packaging>=23.2 in /usr/local/lib/python3.11/dist-packages (from langsmith) (24.2)\n",
            "Requirement already satisfied: pydantic<3,>=1 in /usr/local/lib/python3.11/dist-packages (from langsmith) (2.10.6)\n",
            "Requirement already satisfied: requests<3,>=2 in /usr/local/lib/python3.11/dist-packages (from langsmith) (2.32.3)\n",
            "Requirement already satisfied: requests-toolbelt<2.0.0,>=1.0.0 in /usr/local/lib/python3.11/dist-packages (from langsmith) (1.0.0)\n",
            "Requirement already satisfied: zstandard<0.24.0,>=0.23.0 in /usr/local/lib/python3.11/dist-packages (from langsmith) (0.23.0)\n",
            "Collecting anthropic<1,>=0.47.0 (from langchain_anthropic)\n",
            "  Downloading anthropic-0.49.0-py3-none-any.whl.metadata (24 kB)\n",
            "Requirement already satisfied: anyio<5,>=3.5.0 in /usr/local/lib/python3.11/dist-packages (from anthropic<1,>=0.47.0->langchain_anthropic) (3.7.1)\n",
            "Requirement already satisfied: distro<2,>=1.7.0 in /usr/local/lib/python3.11/dist-packages (from anthropic<1,>=0.47.0->langchain_anthropic) (1.9.0)\n",
            "Requirement already satisfied: jiter<1,>=0.4.0 in /usr/local/lib/python3.11/dist-packages (from anthropic<1,>=0.47.0->langchain_anthropic) (0.8.2)\n",
            "Requirement already satisfied: sniffio in /usr/local/lib/python3.11/dist-packages (from anthropic<1,>=0.47.0->langchain_anthropic) (1.3.1)\n",
            "Requirement already satisfied: typing-extensions<5,>=4.10 in /usr/local/lib/python3.11/dist-packages (from anthropic<1,>=0.47.0->langchain_anthropic) (4.12.2)\n",
            "Requirement already satisfied: certifi in /usr/local/lib/python3.11/dist-packages (from httpx<1,>=0.23.0->langsmith) (2025.1.31)\n",
            "Requirement already satisfied: httpcore==1.* in /usr/local/lib/python3.11/dist-packages (from httpx<1,>=0.23.0->langsmith) (1.0.7)\n",
            "Requirement already satisfied: idna in /usr/local/lib/python3.11/dist-packages (from httpx<1,>=0.23.0->langsmith) (3.10)\n",
            "Requirement already satisfied: h11<0.15,>=0.13 in /usr/local/lib/python3.11/dist-packages (from httpcore==1.*->httpx<1,>=0.23.0->langsmith) (0.14.0)\n",
            "Requirement already satisfied: tenacity!=8.4.0,<10.0.0,>=8.1.0 in /usr/local/lib/python3.11/dist-packages (from langchain-core<0.4,>=0.1->langgraph) (9.0.0)\n",
            "Requirement already satisfied: jsonpatch<2.0,>=1.33 in /usr/local/lib/python3.11/dist-packages (from langchain-core<0.4,>=0.1->langgraph) (1.33)\n",
            "Requirement already satisfied: PyYAML>=5.3 in /usr/local/lib/python3.11/dist-packages (from langchain-core<0.4,>=0.1->langgraph) (6.0.2)\n",
            "Requirement already satisfied: msgpack<2.0.0,>=1.1.0 in /usr/local/lib/python3.11/dist-packages (from langgraph-checkpoint<3.0.0,>=2.0.10->langgraph) (1.1.0)\n",
            "Requirement already satisfied: annotated-types>=0.6.0 in /usr/local/lib/python3.11/dist-packages (from pydantic<3,>=1->langsmith) (0.7.0)\n",
            "Requirement already satisfied: pydantic-core==2.27.2 in /usr/local/lib/python3.11/dist-packages (from pydantic<3,>=1->langsmith) (2.27.2)\n",
            "Requirement already satisfied: charset-normalizer<4,>=2 in /usr/local/lib/python3.11/dist-packages (from requests<3,>=2->langsmith) (3.4.1)\n",
            "Requirement already satisfied: urllib3<3,>=1.21.1 in /usr/local/lib/python3.11/dist-packages (from requests<3,>=2->langsmith) (2.3.0)\n",
            "Requirement already satisfied: jsonpointer>=1.9 in /usr/local/lib/python3.11/dist-packages (from jsonpatch<2.0,>=1.33->langchain-core<0.4,>=0.1->langgraph) (3.0.0)\n",
            "Downloading langgraph-0.3.2-py3-none-any.whl (130 kB)\n",
            "\u001b[2K   \u001b[90m━━━━━━━━━━━━━━━━━━━━━━━━━━━━━━━━━━━━━━━━\u001b[0m \u001b[32m130.9/130.9 kB\u001b[0m \u001b[31m3.8 MB/s\u001b[0m eta \u001b[36m0:00:00\u001b[0m\n",
            "\u001b[?25hDownloading langchain_anthropic-0.3.8-py3-none-any.whl (23 kB)\n",
            "Downloading anthropic-0.49.0-py3-none-any.whl (243 kB)\n",
            "\u001b[2K   \u001b[90m━━━━━━━━━━━━━━━━━━━━━━━━━━━━━━━━━━━━━━━━\u001b[0m \u001b[32m243.4/243.4 kB\u001b[0m \u001b[31m10.4 MB/s\u001b[0m eta \u001b[36m0:00:00\u001b[0m\n",
            "\u001b[?25hDownloading langgraph_checkpoint-2.0.16-py3-none-any.whl (38 kB)\n",
            "Downloading langgraph_prebuilt-0.1.1-py3-none-any.whl (24 kB)\n",
            "Downloading langgraph_sdk-0.1.53-py3-none-any.whl (45 kB)\n",
            "\u001b[2K   \u001b[90m━━━━━━━━━━━━━━━━━━━━━━━━━━━━━━━━━━━━━━━━\u001b[0m \u001b[32m45.4/45.4 kB\u001b[0m \u001b[31m2.5 MB/s\u001b[0m eta \u001b[36m0:00:00\u001b[0m\n",
            "\u001b[?25hInstalling collected packages: langgraph-sdk, anthropic, langgraph-checkpoint, langchain_anthropic, langgraph-prebuilt, langgraph\n",
            "Successfully installed anthropic-0.49.0 langchain_anthropic-0.3.8 langgraph-0.3.2 langgraph-checkpoint-2.0.16 langgraph-prebuilt-0.1.1 langgraph-sdk-0.1.53\n"
          ]
        }
      ],
      "source": [
        "# https://langchain-ai.github.io/langgraph/tutorials/introduction/\n",
        "\n",
        "%pip install -U langgraph langsmith langchain_anthropic"
      ]
    },
    {
      "cell_type": "code",
      "source": [
        "from typing import Annotated\n",
        "\n",
        "from typing_extensions import TypedDict\n",
        "\n",
        "from langgraph.graph import StateGraph, START, END\n",
        "from langgraph.graph.message import add_messages"
      ],
      "metadata": {
        "id": "mXy2E5CsWivG"
      },
      "execution_count": null,
      "outputs": []
    },
    {
      "cell_type": "code",
      "source": [
        "class State(TypedDict):\n",
        "    # Messages have the type \"list\". The `add_messages` function\n",
        "    # in the annotation defines how this state key should be updated\n",
        "    # (in this case, it appends messages to the list, rather than overwriting them)\n",
        "    messages: Annotated[list, add_messages]\n",
        "\n",
        "\n",
        "graph_builder = StateGraph(State)"
      ],
      "metadata": {
        "id": "-RTtGqsXXeJX"
      },
      "execution_count": 9,
      "outputs": []
    },
    {
      "cell_type": "code",
      "source": [
        "# set the LLM with langchain's llm implementation\n",
        "# setup ability to get hidden key information from this colab\n",
        "# and os object to store keys in the environment\n",
        "\n",
        "from google.colab import userdata\n",
        "import os\n",
        "\n",
        "from langchain_anthropic import ChatAnthropic\n",
        "\n",
        "anthropic_key = userdata.get('anthropic_zi2')\n",
        "\n",
        "llm = ChatAnthropic(anthropic_api_key=anthropic_key, model=\"claude-3-5-sonnet-20241022\")\n"
      ],
      "metadata": {
        "id": "hcEEwqeRW9En"
      },
      "execution_count": null,
      "outputs": []
    },
    {
      "cell_type": "code",
      "source": [
        "def chatbot(state: State):\n",
        "    return {\"messages\": [llm.invoke(state[\"messages\"])]}\n",
        "\n",
        "\n",
        "# The first argument is the unique node name\n",
        "# The second argument is the function or object that will be called whenever\n",
        "# the node is used.\n",
        "graph_builder.add_node(\"chatbot\", chatbot)"
      ],
      "metadata": {
        "colab": {
          "base_uri": "https://localhost:8080/"
        },
        "id": "m7HAO3ujWoeX",
        "outputId": "9f6b30a2-3e01-4d85-b18f-ca4440abde21"
      },
      "execution_count": 10,
      "outputs": [
        {
          "output_type": "execute_result",
          "data": {
            "text/plain": [
              "<langgraph.graph.state.StateGraph at 0x7fa4e7800650>"
            ]
          },
          "metadata": {},
          "execution_count": 10
        }
      ]
    },
    {
      "cell_type": "code",
      "source": [
        "graph_builder.add_edge(START, \"chatbot\")\n",
        "graph_builder.add_edge(\"chatbot\", END)"
      ],
      "metadata": {
        "id": "Lreb6cGWWzgo",
        "colab": {
          "base_uri": "https://localhost:8080/"
        },
        "outputId": "d6d3d4b1-0374-4955-ea02-593a80db0180"
      },
      "execution_count": 11,
      "outputs": [
        {
          "output_type": "execute_result",
          "data": {
            "text/plain": [
              "<langgraph.graph.state.StateGraph at 0x7fa4e7800650>"
            ]
          },
          "metadata": {},
          "execution_count": 11
        }
      ]
    },
    {
      "cell_type": "code",
      "source": [
        "graph = graph_builder.compile()"
      ],
      "metadata": {
        "id": "4miYGE3xXqZS"
      },
      "execution_count": 12,
      "outputs": []
    },
    {
      "cell_type": "code",
      "source": [
        "from IPython.display import Image, display\n",
        "\n",
        "try:\n",
        "    display(Image(graph.get_graph().draw_mermaid_png()))\n",
        "except Exception:\n",
        "    # This requires some extra dependencies and is optional\n",
        "    pass"
      ],
      "metadata": {
        "colab": {
          "base_uri": "https://localhost:8080/",
          "height": 251
        },
        "id": "Wq9zQWxDXq_f",
        "outputId": "18b1232f-e59a-4899-e064-9deaeb244383"
      },
      "execution_count": 14,
      "outputs": [
        {
          "output_type": "display_data",
          "data": {
            "image/png": "[encoded data removed]",
            "text/plain": [
              "<IPython.core.display.Image object>"
            ]
          },
          "metadata": {}
        }
      ]
    },
    {
      "cell_type": "code",
      "source": [
        "def stream_graph_updates(user_input: str):\n",
        "    for event in graph.stream({\"messages\": [{\"role\": \"user\", \"content\": user_input}]}):\n",
        "        for value in event.values():\n",
        "            print(\"Assistant:\", value[\"messages\"][-1].content)\n",
        "\n",
        "\n",
        "while True:\n",
        "    try:\n",
        "        user_input = input(\"User: \")\n",
        "        if user_input.lower() in [\"quit\", \"exit\", \"q\"]:\n",
        "            print(\"Goodbye!\")\n",
        "            break\n",
        "\n",
        "        stream_graph_updates(user_input)\n",
        "    except:\n",
        "        # fallback if input() is not available\n",
        "        user_input = \"What do you know about LangGraph?\"\n",
        "        print(\"User: \" + user_input)\n",
        "        stream_graph_updates(user_input)\n",
        "        break"
      ],
      "metadata": {
        "colab": {
          "base_uri": "https://localhost:8080/"
        },
        "id": "58cVoBUBXt6i",
        "outputId": "0bbdc928-b289-46ab-ff35-dc7e5f1bd443"
      },
      "execution_count": null,
      "outputs": [
        {
          "output_type": "stream",
          "name": "stdout",
          "text": [
            "User: What is a decorator in python?\n",
            "Assistant: A decorator in Python is a design pattern that allows you to modify the behavior of a function or class without directly changing its source code. It's a way to wrap one function with another function, adding functionality to the original function.\n",
            "\n",
            "Here are the key points about decorators:\n",
            "\n",
            "1. Basic Syntax:\n",
            "```python\n",
            "@decorator_function\n",
            "def original_function():\n",
            "    pass\n",
            "```\n",
            "\n",
            "This is equivalent to:\n",
            "```python\n",
            "original_function = decorator_function(original_function)\n",
            "```\n",
            "\n",
            "2. Simple Decorator Example:\n",
            "```python\n",
            "def my_decorator(func):\n",
            "    def wrapper():\n",
            "        print(\"Something happens before the function is called\")\n",
            "        func()\n",
            "        print(\"Something happens after the function is called\")\n",
            "    return wrapper\n",
            "\n",
            "@my_decorator\n",
            "def say_hello():\n",
            "    print(\"Hello!\")\n",
            "\n",
            "# When we call say_hello()\n",
            "say_hello()\n",
            "# Output:\n",
            "# Something happens before the function is called\n",
            "# Hello!\n",
            "# Something happens after the function is called\n",
            "```\n",
            "\n",
            "3. Decorator with Arguments:\n",
            "```python\n",
            "def decorator_with_args(func):\n",
            "    def wrapper(*args, **kwargs):\n",
            "        print(\"Before function execution\")\n",
            "        result = func(*args, **kwargs)\n",
            "        print(\"After function execution\")\n",
            "        return result\n",
            "    return wrapper\n",
            "\n",
            "@decorator_with_args\n",
            "def add(a, b):\n",
            "    return a + b\n",
            "\n",
            "print(add(3, 5))\n",
            "```\n",
            "\n",
            "4. Common Use Cases:\n",
            "- Logging\n",
            "- Timing functions\n",
            "- Authentication and authorization\n",
            "- Caching\n",
            "- Input validation\n",
            "\n",
            "Example of a timing decorator:\n",
            "```python\n",
            "import time\n",
            "\n",
            "def timer_decorator(func):\n",
            "    def wrapper(*args, **kwargs):\n",
            "        start_time = time.time()\n",
            "        result = func(*args, **kwargs)\n",
            "        end_time = time.time()\n",
            "        print(f\"Function {func.__name__} took {end_time - start_time} seconds to execute\")\n",
            "        return result\n",
            "    return wrapper\n",
            "\n",
            "@timer_decorator\n",
            "def slow_function():\n",
            "    time.sleep(2)\n",
            "    print(\"Function executed\")\n",
            "\n",
            "slow_function()\n",
            "```\n",
            "\n",
            "5. Class Decorators:\n",
            "```python\n",
            "class MyDecorator:\n",
            "    def __init__(self, func):\n",
            "        self.func = func\n",
            "    \n",
            "    def __call__(self, *args, **kwargs):\n",
            "        print(\"Before the function call\")\n",
            "        result = self.func(*args, **kwargs)\n",
            "        print(\"After the function call\")\n",
            "        return result\n",
            "\n",
            "@MyDecorator\n",
            "def greet(name):\n",
            "    print(f\"Hello, {name}!\")\n",
            "\n",
            "greet(\"Alice\")\n",
            "```\n",
            "\n",
            "6. Multiple Decorators:\n",
            "```python\n",
            "def decorator1(func):\n",
            "    def wrapper():\n",
            "        print(\"Decorator 1\")\n",
            "        func()\n",
            "    return wrapper\n",
            "\n",
            "def decorator2(func):\n",
            "    def wrapper():\n",
            "        print(\"Decorator 2\")\n",
            "        func()\n",
            "    return wrapper\n",
            "\n",
            "@decorator1\n",
            "@decorator2\n",
            "def say_hello():\n",
            "    print(\"Hello!\")\n",
            "\n",
            "# This is equivalent to:\n",
            "# say_hello = decorator1(decorator2(say_hello))\n",
            "```\n",
            "\n",
            "7. Decorators with Parameters:\n",
            "```python\n",
            "def repeat(times):\n",
            "    def decorator(func):\n",
            "        def wrapper(*args, **kwargs):\n",
            "            for _ in range(times):\n",
            "                result = func(*args, **kwargs)\n",
            "            return result\n",
            "        return wrapper\n",
            "    return decorator\n",
            "\n",
            "@repeat(times=3)\n",
            "def greet(name):\n",
            "    print(f\"Hello {name}\")\n",
            "\n",
            "greet(\"World\")\n",
            "```\n",
            "\n",
            "Decorators are widely used in Python frameworks like Flask and Django, and they're a powerful tool for modifying or enhancing functions without changing their source code. They follow the Open/Closed Principle of software design, which states that code should be open for extension but closed for modification.\n"
          ]
        }
      ]
    },
    {
      "cell_type": "code",
      "source": [],
      "metadata": {
        "id": "aog5QBVqYEu7"
      },
      "execution_count": null,
      "outputs": []
    }
  ]
}