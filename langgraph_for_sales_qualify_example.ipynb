{
  "nbformat": 4,
  "nbformat_minor": 0,
  "metadata": {
    "colab": {
      "provenance": [],
      "toc_visible": true,
      "authorship_tag": "ABX9TyPnZUATrEJmi9+IjShUr+so"
    },
    "kernelspec": {
      "name": "python3",
      "display_name": "Python 3"
    },
    "language_info": {
      "name": "python"
    }
  },
  "cells": [
    {
      "cell_type": "code",
      "source": [
        "# Langgraph DAG setup teaching code.\n",
        "# al.nevarez@ March, 4, 2025\n",
        "\n",
        "# just using message state to show where we are in a dag\n",
        "\n",
        "# 1. a basic hello world\n",
        "# 2. and an example to emulate Neha's chat flow use case\n",
        "\n",
        "# hello world example is a varient from here:\n",
        "# https://blog.madhukaraphatak.com/exploring-langgraph-part-1"
      ],
      "metadata": {
        "id": "8LE9WxMdIXxk"
      },
      "execution_count": null,
      "outputs": []
    },
    {
      "cell_type": "code",
      "source": [
        "!pip install -U langgraph"
      ],
      "metadata": {
        "colab": {
          "base_uri": "https://localhost:8080/"
        },
        "id": "F3fl9LglN7ko",
        "outputId": "289237ef-9d90-40ff-d50b-a845e71186bf",
        "collapsed": true
      },
      "execution_count": null,
      "outputs": [
        {
          "output_type": "stream",
          "name": "stdout",
          "text": [
            "Requirement already satisfied: langgraph in /usr/local/lib/python3.11/dist-packages (0.3.11)\n",
            "Requirement already satisfied: langchain-core<0.4,>=0.1 in /usr/local/lib/python3.11/dist-packages (from langgraph) (0.3.44)\n",
            "Requirement already satisfied: langgraph-checkpoint<3.0.0,>=2.0.10 in /usr/local/lib/python3.11/dist-packages (from langgraph) (2.0.20)\n",
            "Requirement already satisfied: langgraph-prebuilt<0.2,>=0.1.1 in /usr/local/lib/python3.11/dist-packages (from langgraph) (0.1.3)\n",
            "Requirement already satisfied: langgraph-sdk<0.2.0,>=0.1.42 in /usr/local/lib/python3.11/dist-packages (from langgraph) (0.1.57)\n",
            "Requirement already satisfied: langsmith<0.4,>=0.1.125 in /usr/local/lib/python3.11/dist-packages (from langchain-core<0.4,>=0.1->langgraph) (0.3.13)\n",
            "Requirement already satisfied: tenacity!=8.4.0,<10.0.0,>=8.1.0 in /usr/local/lib/python3.11/dist-packages (from langchain-core<0.4,>=0.1->langgraph) (9.0.0)\n",
            "Requirement already satisfied: jsonpatch<2.0,>=1.33 in /usr/local/lib/python3.11/dist-packages (from langchain-core<0.4,>=0.1->langgraph) (1.33)\n",
            "Requirement already satisfied: PyYAML>=5.3 in /usr/local/lib/python3.11/dist-packages (from langchain-core<0.4,>=0.1->langgraph) (6.0.2)\n",
            "Requirement already satisfied: packaging<25,>=23.2 in /usr/local/lib/python3.11/dist-packages (from langchain-core<0.4,>=0.1->langgraph) (24.2)\n",
            "Requirement already satisfied: typing-extensions>=4.7 in /usr/local/lib/python3.11/dist-packages (from langchain-core<0.4,>=0.1->langgraph) (4.12.2)\n",
            "Requirement already satisfied: pydantic<3.0.0,>=2.5.2 in /usr/local/lib/python3.11/dist-packages (from langchain-core<0.4,>=0.1->langgraph) (2.10.6)\n",
            "Requirement already satisfied: msgpack<2.0.0,>=1.1.0 in /usr/local/lib/python3.11/dist-packages (from langgraph-checkpoint<3.0.0,>=2.0.10->langgraph) (1.1.0)\n",
            "Requirement already satisfied: httpx>=0.25.2 in /usr/local/lib/python3.11/dist-packages (from langgraph-sdk<0.2.0,>=0.1.42->langgraph) (0.28.1)\n",
            "Requirement already satisfied: orjson>=3.10.1 in /usr/local/lib/python3.11/dist-packages (from langgraph-sdk<0.2.0,>=0.1.42->langgraph) (3.10.15)\n",
            "Requirement already satisfied: anyio in /usr/local/lib/python3.11/dist-packages (from httpx>=0.25.2->langgraph-sdk<0.2.0,>=0.1.42->langgraph) (3.7.1)\n",
            "Requirement already satisfied: certifi in /usr/local/lib/python3.11/dist-packages (from httpx>=0.25.2->langgraph-sdk<0.2.0,>=0.1.42->langgraph) (2025.1.31)\n",
            "Requirement already satisfied: httpcore==1.* in /usr/local/lib/python3.11/dist-packages (from httpx>=0.25.2->langgraph-sdk<0.2.0,>=0.1.42->langgraph) (1.0.7)\n",
            "Requirement already satisfied: idna in /usr/local/lib/python3.11/dist-packages (from httpx>=0.25.2->langgraph-sdk<0.2.0,>=0.1.42->langgraph) (3.10)\n",
            "Requirement already satisfied: h11<0.15,>=0.13 in /usr/local/lib/python3.11/dist-packages (from httpcore==1.*->httpx>=0.25.2->langgraph-sdk<0.2.0,>=0.1.42->langgraph) (0.14.0)\n",
            "Requirement already satisfied: jsonpointer>=1.9 in /usr/local/lib/python3.11/dist-packages (from jsonpatch<2.0,>=1.33->langchain-core<0.4,>=0.1->langgraph) (3.0.0)\n",
            "Requirement already satisfied: requests<3,>=2 in /usr/local/lib/python3.11/dist-packages (from langsmith<0.4,>=0.1.125->langchain-core<0.4,>=0.1->langgraph) (2.32.3)\n",
            "Requirement already satisfied: requests-toolbelt<2.0.0,>=1.0.0 in /usr/local/lib/python3.11/dist-packages (from langsmith<0.4,>=0.1.125->langchain-core<0.4,>=0.1->langgraph) (1.0.0)\n",
            "Requirement already satisfied: zstandard<0.24.0,>=0.23.0 in /usr/local/lib/python3.11/dist-packages (from langsmith<0.4,>=0.1.125->langchain-core<0.4,>=0.1->langgraph) (0.23.0)\n",
            "Requirement already satisfied: annotated-types>=0.6.0 in /usr/local/lib/python3.11/dist-packages (from pydantic<3.0.0,>=2.5.2->langchain-core<0.4,>=0.1->langgraph) (0.7.0)\n",
            "Requirement already satisfied: pydantic-core==2.27.2 in /usr/local/lib/python3.11/dist-packages (from pydantic<3.0.0,>=2.5.2->langchain-core<0.4,>=0.1->langgraph) (2.27.2)\n",
            "Requirement already satisfied: charset-normalizer<4,>=2 in /usr/local/lib/python3.11/dist-packages (from requests<3,>=2->langsmith<0.4,>=0.1.125->langchain-core<0.4,>=0.1->langgraph) (3.4.1)\n",
            "Requirement already satisfied: urllib3<3,>=1.21.1 in /usr/local/lib/python3.11/dist-packages (from requests<3,>=2->langsmith<0.4,>=0.1.125->langchain-core<0.4,>=0.1->langgraph) (2.3.0)\n",
            "Requirement already satisfied: sniffio>=1.1 in /usr/local/lib/python3.11/dist-packages (from anyio->httpx>=0.25.2->langgraph-sdk<0.2.0,>=0.1.42->langgraph) (1.3.1)\n"
          ]
        }
      ]
    },
    {
      "cell_type": "markdown",
      "source": [
        "## simple example with 2 hello world nodes"
      ],
      "metadata": {
        "id": "4pmsjkFL3yeu"
      }
    },
    {
      "cell_type": "code",
      "source": [
        "from langgraph.graph import MessagesState\n",
        "\n",
        "# for readability, use a type hint, the function expects an argument named state and this should be an instance of MessagesState class\n",
        "def hello_world_agent(state:MessagesState):\n",
        "    return {\"messages\":[\"Hello world. I'm inside hello world agent 1\"]}\n",
        "\n",
        "def hello_world_agent2(state:MessagesState):\n",
        "    return {\"messages\":[\"Hello world. I'm inside hello world agent 2\"]}"
      ],
      "metadata": {
        "id": "A3RTat0G3Ze5"
      },
      "execution_count": null,
      "outputs": []
    },
    {
      "cell_type": "code",
      "source": [
        "from langgraph.graph import END, START, StateGraph\n",
        "\n",
        "# add nodes\n",
        "graph_builder = StateGraph(MessagesState)\n",
        "\n",
        "graph_builder.add_node(\"hello_world_agent\",hello_world_agent)\n",
        "graph_builder.add_node(\"hello_world_agent2\",hello_world_agent2)\n",
        "\n",
        "# add edges\n",
        "graph_builder.add_edge(START,\"hello_world_agent\")\n",
        "graph_builder.add_edge(\"hello_world_agent\", \"hello_world_agent2\")\n",
        "graph_builder.add_edge(\"hello_world_agent2\",END)"
      ],
      "metadata": {
        "colab": {
          "base_uri": "https://localhost:8080/"
        },
        "id": "LHMpN884IqqZ",
        "outputId": "83b0f0ac-2002-4269-8dc5-ea2474a8be97"
      },
      "execution_count": null,
      "outputs": [
        {
          "output_type": "execute_result",
          "data": {
            "text/plain": [
              "<langgraph.graph.state.StateGraph at 0x7a9bb5a53d90>"
            ]
          },
          "metadata": {},
          "execution_count": 39
        }
      ]
    },
    {
      "cell_type": "code",
      "source": [
        "graph = graph_builder.compile()"
      ],
      "metadata": {
        "id": "k1xmuQUx3DeM"
      },
      "execution_count": null,
      "outputs": []
    },
    {
      "cell_type": "code",
      "source": [
        "from IPython.display import Image, display\n",
        "\n",
        "try:\n",
        "    display(Image(graph.get_graph().draw_mermaid_png()))\n",
        "except Exception:\n",
        "    # This requires some extra dependencies and is optional\n",
        "    pass"
      ],
      "metadata": {
        "colab": {
          "base_uri": "https://localhost:8080/",
          "height": 350
        },
        "id": "ifJspmIV3FYJ",
        "outputId": "4394ca2b-ea65-4a4d-dad3-2c32c329c090"
      },
      "execution_count": null,
      "outputs": [
        {
          "output_type": "display_data",
          "data": {
            "image/png": "[encoded data removed]",
            "text/plain": [
              "<IPython.core.display.Image object>"
            ]
          },
          "metadata": {}
        }
      ]
    },
    {
      "cell_type": "code",
      "source": [
        "for event in graph.stream({\"messages\": [\"apples\"]}):\n",
        "    for value in event.values():\n",
        "        print(value)\n",
        "        print()\n",
        "    for keys in event.keys():\n",
        "        print(keys)\n",
        "        print()\n",
        "    for items in event.items():\n",
        "        print(items)\n",
        "        print()\n",
        "    print(\"-----\")\n"
      ],
      "metadata": {
        "colab": {
          "base_uri": "https://localhost:8080/"
        },
        "id": "7aC8KMJg3hN5",
        "outputId": "5bdfc7dd-aa66-48d9-df69-db314a9b1d89"
      },
      "execution_count": null,
      "outputs": [
        {
          "output_type": "stream",
          "name": "stdout",
          "text": [
            "{'messages': [\"Hello world. I'm inside hello world agent 1\"]}\n",
            "\n",
            "hello_world_agent\n",
            "\n",
            "('hello_world_agent', {'messages': [\"Hello world. I'm inside hello world agent 1\"]})\n",
            "\n",
            "-----\n",
            "{'messages': [\"Hello world. I'm inside hello world agent 2\"]}\n",
            "\n",
            "hello_world_agent2\n",
            "\n",
            "('hello_world_agent2', {'messages': [\"Hello world. I'm inside hello world agent 2\"]})\n",
            "\n",
            "-----\n"
          ]
        }
      ]
    },
    {
      "cell_type": "markdown",
      "source": [
        "## Neha's example\n",
        "\n",
        "No LLM or real data used here.. Mainly just constructed a DAG with a couple conditional edges and some random functions to simulate what a real function might return. So we can test the flow easily at the end.\n",
        "\n",
        "DAG diagram in cell 280 below.\n",
        "\n",
        " Neha provided the following requirements:\n",
        "\n",
        "* AI agent processes website chats to qualify leads using Anthropic API and integration with Hubspot & Zoominfo for lead enrichment\n",
        "* Real-time chat routing to SDRs on Slack\n",
        "* Automated meeting scheduling by checking calendar availability\n",
        "* AI-driven company insights shared on Slack to help SDRs sell smarter"
      ],
      "metadata": {
        "id": "tZNPxigO4AXv"
      }
    },
    {
      "cell_type": "code",
      "source": [
        "# start a new Langgraph graph\n",
        "!pip install -U langgraph\n",
        "from langgraph.graph import END, START, StateGraph\n",
        "from langgraph.graph import MessagesState\n",
        "\n",
        "graph_builder = StateGraph(MessagesState)"
      ],
      "metadata": {
        "colab": {
          "base_uri": "https://localhost:8080/"
        },
        "collapsed": true,
        "id": "_qehEpPKdal2",
        "outputId": "52d13912-928a-4c13-b1ee-c7a80bf1f550"
      },
      "execution_count": null,
      "outputs": [
        {
          "output_type": "stream",
          "name": "stdout",
          "text": [
            "Requirement already satisfied: langgraph in /usr/local/lib/python3.11/dist-packages (0.3.11)\n",
            "Requirement already satisfied: langchain-core<0.4,>=0.1 in /usr/local/lib/python3.11/dist-packages (from langgraph) (0.3.44)\n",
            "Requirement already satisfied: langgraph-checkpoint<3.0.0,>=2.0.10 in /usr/local/lib/python3.11/dist-packages (from langgraph) (2.0.20)\n",
            "Requirement already satisfied: langgraph-prebuilt<0.2,>=0.1.1 in /usr/local/lib/python3.11/dist-packages (from langgraph) (0.1.3)\n",
            "Requirement already satisfied: langgraph-sdk<0.2.0,>=0.1.42 in /usr/local/lib/python3.11/dist-packages (from langgraph) (0.1.57)\n",
            "Requirement already satisfied: langsmith<0.4,>=0.1.125 in /usr/local/lib/python3.11/dist-packages (from langchain-core<0.4,>=0.1->langgraph) (0.3.13)\n",
            "Requirement already satisfied: tenacity!=8.4.0,<10.0.0,>=8.1.0 in /usr/local/lib/python3.11/dist-packages (from langchain-core<0.4,>=0.1->langgraph) (9.0.0)\n",
            "Requirement already satisfied: jsonpatch<2.0,>=1.33 in /usr/local/lib/python3.11/dist-packages (from langchain-core<0.4,>=0.1->langgraph) (1.33)\n",
            "Requirement already satisfied: PyYAML>=5.3 in /usr/local/lib/python3.11/dist-packages (from langchain-core<0.4,>=0.1->langgraph) (6.0.2)\n",
            "Requirement already satisfied: packaging<25,>=23.2 in /usr/local/lib/python3.11/dist-packages (from langchain-core<0.4,>=0.1->langgraph) (24.2)\n",
            "Requirement already satisfied: typing-extensions>=4.7 in /usr/local/lib/python3.11/dist-packages (from langchain-core<0.4,>=0.1->langgraph) (4.12.2)\n",
            "Requirement already satisfied: pydantic<3.0.0,>=2.5.2 in /usr/local/lib/python3.11/dist-packages (from langchain-core<0.4,>=0.1->langgraph) (2.10.6)\n",
            "Requirement already satisfied: msgpack<2.0.0,>=1.1.0 in /usr/local/lib/python3.11/dist-packages (from langgraph-checkpoint<3.0.0,>=2.0.10->langgraph) (1.1.0)\n",
            "Requirement already satisfied: httpx>=0.25.2 in /usr/local/lib/python3.11/dist-packages (from langgraph-sdk<0.2.0,>=0.1.42->langgraph) (0.28.1)\n",
            "Requirement already satisfied: orjson>=3.10.1 in /usr/local/lib/python3.11/dist-packages (from langgraph-sdk<0.2.0,>=0.1.42->langgraph) (3.10.15)\n",
            "Requirement already satisfied: anyio in /usr/local/lib/python3.11/dist-packages (from httpx>=0.25.2->langgraph-sdk<0.2.0,>=0.1.42->langgraph) (3.7.1)\n",
            "Requirement already satisfied: certifi in /usr/local/lib/python3.11/dist-packages (from httpx>=0.25.2->langgraph-sdk<0.2.0,>=0.1.42->langgraph) (2025.1.31)\n",
            "Requirement already satisfied: httpcore==1.* in /usr/local/lib/python3.11/dist-packages (from httpx>=0.25.2->langgraph-sdk<0.2.0,>=0.1.42->langgraph) (1.0.7)\n",
            "Requirement already satisfied: idna in /usr/local/lib/python3.11/dist-packages (from httpx>=0.25.2->langgraph-sdk<0.2.0,>=0.1.42->langgraph) (3.10)\n",
            "Requirement already satisfied: h11<0.15,>=0.13 in /usr/local/lib/python3.11/dist-packages (from httpcore==1.*->httpx>=0.25.2->langgraph-sdk<0.2.0,>=0.1.42->langgraph) (0.14.0)\n",
            "Requirement already satisfied: jsonpointer>=1.9 in /usr/local/lib/python3.11/dist-packages (from jsonpatch<2.0,>=1.33->langchain-core<0.4,>=0.1->langgraph) (3.0.0)\n",
            "Requirement already satisfied: requests<3,>=2 in /usr/local/lib/python3.11/dist-packages (from langsmith<0.4,>=0.1.125->langchain-core<0.4,>=0.1->langgraph) (2.32.3)\n",
            "Requirement already satisfied: requests-toolbelt<2.0.0,>=1.0.0 in /usr/local/lib/python3.11/dist-packages (from langsmith<0.4,>=0.1.125->langchain-core<0.4,>=0.1->langgraph) (1.0.0)\n",
            "Requirement already satisfied: zstandard<0.24.0,>=0.23.0 in /usr/local/lib/python3.11/dist-packages (from langsmith<0.4,>=0.1.125->langchain-core<0.4,>=0.1->langgraph) (0.23.0)\n",
            "Requirement already satisfied: annotated-types>=0.6.0 in /usr/local/lib/python3.11/dist-packages (from pydantic<3.0.0,>=2.5.2->langchain-core<0.4,>=0.1->langgraph) (0.7.0)\n",
            "Requirement already satisfied: pydantic-core==2.27.2 in /usr/local/lib/python3.11/dist-packages (from pydantic<3.0.0,>=2.5.2->langchain-core<0.4,>=0.1->langgraph) (2.27.2)\n",
            "Requirement already satisfied: charset-normalizer<4,>=2 in /usr/local/lib/python3.11/dist-packages (from requests<3,>=2->langsmith<0.4,>=0.1.125->langchain-core<0.4,>=0.1->langgraph) (3.4.1)\n",
            "Requirement already satisfied: urllib3<3,>=1.21.1 in /usr/local/lib/python3.11/dist-packages (from requests<3,>=2->langsmith<0.4,>=0.1.125->langchain-core<0.4,>=0.1->langgraph) (2.3.0)\n",
            "Requirement already satisfied: sniffio>=1.1 in /usr/local/lib/python3.11/dist-packages (from anyio->httpx>=0.25.2->langgraph-sdk<0.2.0,>=0.1.42->langgraph) (1.3.1)\n"
          ]
        }
      ]
    },
    {
      "cell_type": "code",
      "source": [
        "# a few simple functions to emulate a response about being qualified, asking for a call, and scheduling a call\n",
        "# in a real agent, these would call an anthopic classifier, respond to an agent asking prospect to schedule, and a scheduler returning a status\n",
        "# but i just emulate these with the following random functions\n",
        "\n",
        "import random\n",
        "\n",
        "def qualify():\n",
        "    \"\"\"Randomly classifies the input question.\"\"\"\n",
        "    return random.choice([\"qualified\", \"not qualified\"])\n",
        "\n",
        "def ask_for_call():\n",
        "    \"\"\"Randomly classifies the input question.\"\"\"\n",
        "    return random.choice([\"Ask for call\", \"No ask for call\"])\n",
        "\n",
        "def meeting_scheduled():\n",
        "    \"\"\"Randomly classifies the input question.\"\"\"\n",
        "    return random.choice([\"Meeting scheduled\", \"No meeting scheduled\"])"
      ],
      "metadata": {
        "id": "F4PXPjxeXSeb"
      },
      "execution_count": null,
      "outputs": []
    },
    {
      "cell_type": "code",
      "source": [
        "# in a real agent these may be like the lead function upon entering a node or an agent\n",
        "# for now we're just using the Message state to help us track where in the agent we are\n",
        "# each of these are called later when we construct the nodes\n",
        "\n",
        "from langgraph.graph import MessagesState\n",
        "\n",
        "def read_chat_agent(state:MessagesState):\n",
        "    return {\"messages\":[\"Inside the read chat node\"]}\n",
        "\n",
        "def enrich_with_hubspot_agent(state:MessagesState):\n",
        "    return {\"messages\":[\"Inside Hubspot enrichment node\"]}\n",
        "\n",
        "def enrich_with_zoominfo_agent(state:MessagesState):\n",
        "    return {\"messages\":[\"Inside Zoominfo enrichment node\"]}\n",
        "\n",
        "# the next function need to invoke some pretend functionality to test if the prospect is qualified or not\n",
        "def qualify_test_agent(state):\n",
        "    qualified = qualify()  # check our random function above\n",
        "    # store result in the state\n",
        "    return {\"qualified_test_result\": qualified, \"messages\": [f\"Qualify test node & conditional edge result: {qualified}\"]}\n",
        "\n",
        "def route_chat_to_slack_agent(state:MessagesState):\n",
        "    return {\"messages\":[\"Inside routing chat to slack node\"]}\n",
        "\n",
        "# the next function need to invoke some pretend functionality to test if the agent is requesting a call or not\n",
        "def ask_for_call_slack_agent(state):\n",
        "    asked_for_call = ask_for_call()  # check our random function above\n",
        "    # store result in the state\n",
        "    return {\"ask_for_call\": asked_for_call, \"messages\": [f\"Inside check if sdr wants call or not: {asked_for_call}\"]}\n",
        "\n",
        "# the next function need to invoke some pretend functionality to test if the prospect has scheduled a call or not\n",
        "def meeting_scheduler_agent(state):\n",
        "    meeting_scheduled_check = meeting_scheduled()  # check our random function above\n",
        "    # store result in the state\n",
        "    return {\"meeting_scheduled\": meeting_scheduled_check, \"messages\": [f\"Inside test if prospect scheduled meeting: {meeting_scheduled_check}\"]}\n",
        "\n",
        "def get_ai_insights_agent(state:MessagesState):\n",
        "    return {\"messages\":[\"Get ai driven insights\"]}\n"
      ],
      "metadata": {
        "id": "179SNxrI4Z9i"
      },
      "execution_count": null,
      "outputs": []
    },
    {
      "cell_type": "code",
      "source": [
        "# add nodes (which are like agents) to the graph\n",
        "graph_builder = StateGraph(MessagesState)\n",
        "\n",
        "graph_builder.add_node(\"read_chat\",read_chat_agent)\n",
        "graph_builder.add_node(\"enrich_with_hubspot\",enrich_with_hubspot_agent)\n",
        "graph_builder.add_node(\"enrich_with_zoominfo\",enrich_with_zoominfo_agent)\n",
        "graph_builder.add_node(\"qualify_test\", qualify_test_agent)\n",
        "graph_builder.add_node(\"route_chat_to_sdr_via_slack\", route_chat_to_slack_agent)\n",
        "graph_builder.add_node(\"ask_for_call\", ask_for_call_slack_agent)\n",
        "graph_builder.add_node(\"meeting_scheduler\", meeting_scheduler_agent)\n",
        "graph_builder.add_node(\"get_ai_insights\", get_ai_insights_agent)\n"
      ],
      "metadata": {
        "colab": {
          "base_uri": "https://localhost:8080/"
        },
        "id": "3_EBuYwU4FUj",
        "outputId": "f1e3da37-d60a-4dd3-b299-620f585abdcb"
      },
      "execution_count": null,
      "outputs": [
        {
          "output_type": "execute_result",
          "data": {
            "text/plain": [
              "<langgraph.graph.state.StateGraph at 0x7a9bb4f2d090>"
            ]
          },
          "metadata": {},
          "execution_count": 45
        }
      ]
    },
    {
      "cell_type": "code",
      "source": [
        "# A set of functions that get the result of the random functions and pass a value to be used by\n",
        "# the condition edges.  basically i'm just passing the same values, but we need  functions like this\n",
        "# for the conditional edge tests.\n",
        "\n",
        "def decide_next_node_post_qualify(state):\n",
        "  return \"qualified\" if state.get('qualified_test_result') == 'qualified' else 'not_qualified'\n",
        "\n",
        "def decide_next_node_post_ask_for_call(state):\n",
        "  return \"Ask for call\" if state.get('ask_for_call') == 'Ask for call' else 'No ask for call'\n",
        "\n",
        "def decide_next_node_post_meeting_scheduler(state):\n",
        "  return \"Meeting scheduled\" if state.get('meeting_scheduled') == 'Meeting scheduled' else 'No meeting scheduled'\n"
      ],
      "metadata": {
        "id": "0D3BvW-eyrBs"
      },
      "execution_count": null,
      "outputs": []
    },
    {
      "cell_type": "code",
      "source": [
        "# Add conditional edges\n",
        "# this multi-agent has 3 places it has to make a decision following a node\n",
        "# each below starts with a node, and the function that gets value that becomes key for where to route next\n",
        "\n",
        "graph_builder.add_conditional_edges(\n",
        "    \"qualify_test\",\n",
        "    decide_next_node_post_qualify,\n",
        "    {\n",
        "        \"qualified\": \"route_chat_to_sdr_via_slack\",\n",
        "        \"not_qualified\": END\n",
        "    }\n",
        ")\n",
        "\n",
        "graph_builder.add_conditional_edges(\n",
        "    \"ask_for_call\",\n",
        "    decide_next_node_post_ask_for_call,\n",
        "    {\n",
        "        \"Ask for call\": \"meeting_scheduler\",\n",
        "        \"No ask for call\": END\n",
        "    }\n",
        ")\n",
        "\n",
        "graph_builder.add_conditional_edges(\n",
        "    \"meeting_scheduler\",\n",
        "    decide_next_node_post_meeting_scheduler,\n",
        "    {\n",
        "        \"Meeting scheduled\": \"get_ai_insights\",\n",
        "        \"No meeting scheduled\": END\n",
        "    }\n",
        ")"
      ],
      "metadata": {
        "colab": {
          "base_uri": "https://localhost:8080/"
        },
        "id": "-zRsMyuqaL1D",
        "outputId": "d588f8bb-9b40-43b7-9f53-ede77c8ca3f7"
      },
      "execution_count": null,
      "outputs": [
        {
          "output_type": "execute_result",
          "data": {
            "text/plain": [
              "<langgraph.graph.state.StateGraph at 0x7a9bb4f2d090>"
            ]
          },
          "metadata": {},
          "execution_count": 47
        }
      ]
    },
    {
      "cell_type": "code",
      "source": [
        "# add edges between the nodes\n",
        "graph_builder.set_entry_point(\"read_chat\")\n",
        "graph_builder.add_edge(\"read_chat\",\"enrich_with_zoominfo\")\n",
        "graph_builder.add_edge(\"enrich_with_zoominfo\",\"enrich_with_hubspot\")\n",
        "graph_builder.add_edge(\"enrich_with_hubspot\",\"qualify_test\")\n",
        "graph_builder.add_edge(\"route_chat_to_sdr_via_slack\",\"ask_for_call\")\n",
        "# Note: no need to add an edge linking meeting_scheduler here, as it's already there in conditional edges above.\n",
        "graph_builder.add_edge(\"get_ai_insights\",END)\n"
      ],
      "metadata": {
        "colab": {
          "base_uri": "https://localhost:8080/"
        },
        "id": "U9CaRY7TaN5k",
        "outputId": "7a4b276e-45d3-48ca-8a06-82f090b341dc"
      },
      "execution_count": null,
      "outputs": [
        {
          "output_type": "execute_result",
          "data": {
            "text/plain": [
              "<langgraph.graph.state.StateGraph at 0x7a9bb4f2d090>"
            ]
          },
          "metadata": {},
          "execution_count": 48
        }
      ]
    },
    {
      "cell_type": "code",
      "source": [
        "graph = graph_builder.compile()"
      ],
      "metadata": {
        "id": "ApZIj71j5uUs"
      },
      "execution_count": null,
      "outputs": []
    },
    {
      "cell_type": "code",
      "source": [
        "from IPython.display import Image, display\n",
        "\n",
        "try:\n",
        "    display(Image(graph.get_graph().draw_mermaid_png()))\n",
        "except Exception:\n",
        "    # This requires some extra dependencies and is optional\n",
        "    print(\"something is wrong\")\n",
        "    pass"
      ],
      "metadata": {
        "colab": {
          "base_uri": "https://localhost:8080/",
          "height": 1000
        },
        "id": "XmrWN9zV5wIZ",
        "outputId": "3ddacc97-c7e8-4cdf-f3a1-d765853d212e"
      },
      "execution_count": null,
      "outputs": [
        {
          "output_type": "display_data",
          "data": {
            "image/png": "[encoded data removed]",
            "text/plain": [
              "<IPython.core.display.Image object>"
            ]
          },
          "metadata": {}
        }
      ]
    },
    {
      "cell_type": "code",
      "source": [
        "# run this cell over and over again to get a run through the agents.\n",
        "# it will use random outcomes for each of the conditional edges\n",
        "\n",
        "for event in graph.stream({\"messages\": [\"This is pretend input chat\"]}):\n",
        "    for value in event.values():\n",
        "        print(value)"
      ],
      "metadata": {
        "colab": {
          "base_uri": "https://localhost:8080/"
        },
        "id": "oncREhus54r6",
        "outputId": "46095e77-4fae-406d-d790-67c6e436f5a2"
      },
      "execution_count": null,
      "outputs": [
        {
          "output_type": "stream",
          "name": "stdout",
          "text": [
            "{'messages': ['Inside the read chat node']}\n",
            "{'messages': ['Inside Zoominfo enrichment node']}\n",
            "{'messages': ['Inside Hubspot enrichment node']}\n",
            "{'messages': ['Qualify test node & conditional edge result: not qualified']}\n"
          ]
        }
      ]
    },
    {
      "cell_type": "code",
      "source": [
        "# print out more attributes of the graph\n",
        "for event in graph.stream({\"messages\": [\"This is pretend input chat 2\"]}):\n",
        "    for value in event.values():\n",
        "        print(value)\n",
        "        print()\n",
        "    for keys in event.keys():\n",
        "        print(keys)\n",
        "        print()\n",
        "    for items in event.items():\n",
        "        print(items)\n",
        "        print()\n",
        "    print(\"-----\")\n"
      ],
      "metadata": {
        "id": "YJnYuAYW5-6Q",
        "colab": {
          "base_uri": "https://localhost:8080/"
        },
        "outputId": "de133c7b-5e9c-4c95-9503-3856be4bcc9e"
      },
      "execution_count": null,
      "outputs": [
        {
          "output_type": "stream",
          "name": "stdout",
          "text": [
            "{'messages': ['Inside the read chat node']}\n",
            "\n",
            "read_chat\n",
            "\n",
            "('read_chat', {'messages': ['Inside the read chat node']})\n",
            "\n",
            "-----\n",
            "{'messages': ['Inside Zoominfo enrichment node']}\n",
            "\n",
            "enrich_with_zoominfo\n",
            "\n",
            "('enrich_with_zoominfo', {'messages': ['Inside Zoominfo enrichment node']})\n",
            "\n",
            "-----\n",
            "{'messages': ['Inside Hubspot enrichment node']}\n",
            "\n",
            "enrich_with_hubspot\n",
            "\n",
            "('enrich_with_hubspot', {'messages': ['Inside Hubspot enrichment node']})\n",
            "\n",
            "-----\n",
            "{'messages': ['Qualify test node & conditional edge result: not qualified']}\n",
            "\n",
            "qualify_test\n",
            "\n",
            "('qualify_test', {'messages': ['Qualify test node & conditional edge result: not qualified']})\n",
            "\n",
            "-----\n"
          ]
        }
      ]
    },
    {
      "cell_type": "code",
      "source": [],
      "metadata": {
        "id": "k9wH356HnJh9"
      },
      "execution_count": null,
      "outputs": []
    }
  ]
}